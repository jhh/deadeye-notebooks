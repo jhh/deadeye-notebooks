{
 "cells": [
  {
   "cell_type": "code",
   "execution_count": 5,
   "id": "6b64653e",
   "metadata": {},
   "outputs": [],
   "source": [
    "from matplotlib import pyplot as plt\n",
    "import numpy as np\n",
    "\n",
    "# %matplotlib notebook\n",
    "plt.rcParams[\"figure.figsize\"] = [10, 10]"
   ]
  },
  {
   "cell_type": "code",
   "execution_count": 6,
   "id": "69389510",
   "metadata": {},
   "outputs": [],
   "source": [
    "c = np.load(\"data/rectangle_clean/tc89_kcos.npy\")\n",
    "x = [e[0][0] for e in c]\n",
    "y = [e[0][1] for e in c]"
   ]
  },
  {
   "cell_type": "code",
   "execution_count": 7,
   "id": "38290eed",
   "metadata": {},
   "outputs": [
    {
     "data": {
      "text/plain": "<Figure size 720x720 with 1 Axes>",
      "image/png": "[encoded data removed]"
     },
     "metadata": {
      "needs_background": "light"
     },
     "output_type": "display_data"
    }
   ],
   "source": [
    "fix, ax = plt.subplots()\n",
    "ax.set_aspect('equal')\n",
    "ax.invert_yaxis()\n",
    "_ = ax.plot(x, y)"
   ]
  },
  {
   "cell_type": "code",
   "execution_count": 8,
   "id": "8bcf132b",
   "metadata": {},
   "outputs": [],
   "source": [
    "import cv2 as cv\n",
    "def make_contours():\n",
    "    img = cv.imread(\"img/rectangle_clean.jpg\")\n",
    "    sv_lower = 200\n",
    "    hsv_lower = (40, sv_lower, sv_lower)\n",
    "    hsv_upper = (80, 255, 255)\n",
    "    hsv_img = cv.cvtColor(img, cv.COLOR_BGR2HSV)\n",
    "    inrange_mask = cv.inRange(hsv_img, hsv_lower, hsv_upper)\n",
    "\n",
    "    contours, hierarchy = cv.findContours(inrange_mask, cv.RETR_LIST, cv.CHAIN_APPROX_NONE)\n",
    "    contour = max(contours, key = cv.contourArea)\n",
    "    np.save(\"data/rectangle_clean/none.npy\", contour)\n",
    "\n",
    "    contours, hierarchy = cv.findContours(inrange_mask, cv.RETR_LIST, cv.CHAIN_APPROX_SIMPLE)\n",
    "    contour = max(contours, key = cv.contourArea)\n",
    "    np.save(\"data/rectangle_clean/simple.npy\", contour)\n",
    "\n",
    "    contours, hierarchy = cv.findContours(inrange_mask, cv.RETR_LIST, cv.CHAIN_APPROX_TC89_L1)\n",
    "    contour = max(contours, key = cv.contourArea)\n",
    "    np.save(\"data/rectangle_clean/tc89_l1.npy\", contour)\n",
    "\n",
    "    contours, hierarchy = cv.findContours(inrange_mask, cv.RETR_LIST, cv.CHAIN_APPROX_TC89_KCOS)\n",
    "    contour = max(contours, key = cv.contourArea)\n",
    "    np.save(\"data/rectangle_clean/tc89_kcos.npy\", contour)"
   ]
  },
  {
   "cell_type": "code",
   "execution_count": null,
   "id": "c798eac9",
   "metadata": {},
   "outputs": [],
   "source": []
  }
 ],
 "metadata": {
  "kernelspec": {
   "display_name": "Python 3 (ipykernel)",
   "language": "python",
   "name": "python3"
  },
  "language_info": {
   "codemirror_mode": {
    "name": "ipython",
    "version": 3
   },
   "file_extension": ".py",
   "mimetype": "text/x-python",
   "name": "python",
   "nbconvert_exporter": "python",
   "pygments_lexer": "ipython3",
   "version": "3.9.8"
  }
 },
 "nbformat": 4,
 "nbformat_minor": 5
}